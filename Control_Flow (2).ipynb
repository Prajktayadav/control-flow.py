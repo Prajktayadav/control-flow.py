{
  "cells": [
    {
      "cell_type": "code",
      "execution_count": null,
      "metadata": {
        "id": "_LDMaGj_Qus1"
      },
      "outputs": [],
      "source": [
        "# BASIC If-Else Statement"
      ]
    },
    {
      "cell_type": "code",
      "execution_count": null,
      "metadata": {
        "colab": {
          "base_uri": "https://localhost:8080/"
        },
        "id": "c_ucAbUsQ6YF",
        "outputId": "a8c7f8c8-0d79-4c2d-c791-6521db42d20b"
      },
      "outputs": [
        {
          "name": "stdout",
          "output_type": "stream",
          "text": [
            "Positive\n",
            "Equal to zero\n",
            "Negative\n"
          ]
        }
      ],
      "source": [
        "#1. Write a Python program to check if a given number is positive or negative.\n",
        "\n",
        "def check(n):\n",
        "\n",
        "    if n > 0:\n",
        "        print(\"Positive\")\n",
        "\n",
        "    elif n < 0:\n",
        "        print(\"Negative\")\n",
        "    else:\n",
        "        print(\"Equal to zero\")\n",
        "\n",
        "check(5)\n",
        "check(0)\n",
        "check(-5)\n"
      ]
    },
    {
      "cell_type": "code",
      "execution_count": null,
      "metadata": {
        "colab": {
          "base_uri": "https://localhost:8080/"
        },
        "id": "uqR3gItyS2v3",
        "outputId": "e3c8bce8-e9a3-473a-fe87-14cc8d0c00ed"
      },
      "outputs": [
        {
          "name": "stdout",
          "output_type": "stream",
          "text": [
            "Not eligible vote\n",
            "Eligible for vote\n"
          ]
        }
      ],
      "source": [
        "#2. Create a program that determines if a person is eligible to vote based on their age.\n",
        "\n",
        "def check(p):\n",
        "  if p>18:\n",
        "    print(\"Eligible for vote\")\n",
        "  elif p<18:\n",
        "    print(\"Not eligible vote\")\n",
        "\n",
        "  else:\n",
        "      print(\"Hello\")\n",
        "check(16)\n",
        "check(20)\n"
      ]
    },
    {
      "cell_type": "code",
      "execution_count": null,
      "metadata": {
        "colab": {
          "base_uri": "https://localhost:8080/"
        },
        "id": "Z-VgWwFeU1yg",
        "outputId": "10de424f-61eb-4971-dce7-601b33a33cc6"
      },
      "outputs": [
        {
          "name": "stdout",
          "output_type": "stream",
          "text": [
            "4\n"
          ]
        }
      ],
      "source": [
        "#3. Develop a program to find the maximum of two numbers using if-else statements.\n",
        "\n",
        "\n",
        "def maximum(a, b):\n",
        "\n",
        "    if a >= b:\n",
        "        return a\n",
        "    else:\n",
        "        return b\n",
        "\n",
        "a = 2\n",
        "b = 4\n",
        "print(maximum(a, b))"
      ]
    },
    {
      "cell_type": "code",
      "execution_count": null,
      "metadata": {
        "colab": {
          "base_uri": "https://localhost:8080/"
        },
        "id": "bevNxYYQVTIy",
        "outputId": "d80f541d-d139-4475-fd32-b13eb0c1e49c"
      },
      "outputs": [
        {
          "name": "stdout",
          "output_type": "stream",
          "text": [
            "2005 is not a leap year\n"
          ]
        }
      ],
      "source": [
        "#4. Write a Python script to classify a given year as a leap year or not.\n",
        "\n",
        "year = 2005\n",
        "if (year % 400 == 0) and (year % 100 == 0):\n",
        "    print(\"{0} is a leap year\".format(year))\n",
        "elif (year % 4 ==0) and (year % 100 != 0):\n",
        "    print(\"{0} is a leap year\".format(year))\n",
        "else:\n",
        "    print(\"{0} is not a leap year\".format(year))"
      ]
    },
    {
      "cell_type": "code",
      "execution_count": null,
      "metadata": {
        "colab": {
          "base_uri": "https://localhost:8080/"
        },
        "id": "jnnkSio_VsU9",
        "outputId": "69f1288b-1191-40bd-869d-d15c547fc8cb"
      },
      "outputs": [
        {
          "name": "stdout",
          "output_type": "stream",
          "text": [
            "Consonant\n",
            "Vowel\n"
          ]
        }
      ],
      "source": [
        "#5. Create a program that checks whether a character is a vowel or a consonant.\n",
        "\n",
        "\n",
        "def vowelOrConsonant(x):\n",
        "\n",
        "    if (x == 'a' or x == 'e' or\n",
        "        x == 'i' or x == 'o' or x == 'u'):\n",
        "        print(\"Vowel\")\n",
        "    else:\n",
        "        print(\"Consonant\")\n",
        "\n",
        "vowelOrConsonant('c')\n",
        "vowelOrConsonant('e')"
      ]
    },
    {
      "cell_type": "code",
      "execution_count": null,
      "metadata": {
        "colab": {
          "base_uri": "https://localhost:8080/"
        },
        "id": "mVlQg-VpWJ6z",
        "outputId": "e5fb8aaa-3331-40e8-e1e6-26ce12429cb3"
      },
      "outputs": [
        {
          "name": "stdout",
          "output_type": "stream",
          "text": [
            "Enter a number: 18\n",
            "18 is Even\n"
          ]
        }
      ],
      "source": [
        "#6. Implement a program to determine whether a given number is even or odd.\n",
        "\n",
        "num = int(input(\"Enter a number: \"))\n",
        "if (num % 2) == 0:\n",
        "   print(\"{0} is Even\".format(num))\n",
        "else:\n",
        "   print(\"{0} is Odd\".format(num))"
      ]
    },
    {
      "cell_type": "code",
      "execution_count": null,
      "metadata": {
        "colab": {
          "base_uri": "https://localhost:8080/"
        },
        "id": "w1mCFkxtXtpt",
        "outputId": "3367d792-90b7-42a9-e6b6-6fa9f8463be1"
      },
      "outputs": [
        {
          "name": "stdout",
          "output_type": "stream",
          "text": [
            "10\n",
            "20\n",
            "0\n"
          ]
        }
      ],
      "source": [
        "#7. Write a Python function to calculate the absolute value of a number without using the `abs()` function.\n",
        "\n",
        "def absolute_value(num):\n",
        "    \"\"\"Absolute value of number\"\"\"\n",
        "\n",
        "    if num >= 0:\n",
        "        return num\n",
        "    else:\n",
        "        return -num\n",
        "print(absolute_value(10))\n",
        "print(absolute_value(-20))\n",
        "print(absolute_value(0))"
      ]
    },
    {
      "cell_type": "code",
      "execution_count": null,
      "metadata": {
        "colab": {
          "base_uri": "https://localhost:8080/"
        },
        "id": "27V0I7VoYHOd",
        "outputId": "a015caa9-c870-4a34-f61b-c88036163d19"
      },
      "outputs": [
        {
          "name": "stdout",
          "output_type": "stream",
          "text": [
            "The largest number is 14\n"
          ]
        }
      ],
      "source": [
        "#8. Develop a program that determines the largest of three given numbers using if-else statements.\n",
        "\n",
        "\n",
        "num1 = 10\n",
        "num2 = 14\n",
        "num3 = 12\n",
        "\n",
        "if (num1 >= num2) and (num1 >= num3):\n",
        "   largest = num1\n",
        "elif (num2 >= num1) and (num2 >= num3):\n",
        "   largest = num2\n",
        "else:\n",
        "   largest = num3\n",
        "\n",
        "print(\"The largest number is\", largest)\n"
      ]
    },
    {
      "cell_type": "code",
      "execution_count": null,
      "metadata": {
        "colab": {
          "base_uri": "https://localhost:8080/"
        },
        "id": "k8DfH-awYtGy",
        "outputId": "22b715cd-4e62-465e-9b0e-e2025cc25e67"
      },
      "outputs": [
        {
          "name": "stdout",
          "output_type": "stream",
          "text": [
            "No\n"
          ]
        }
      ],
      "source": [
        "#9. Create a program that checks if a given string is a palindrome.\n",
        "\n",
        "def isPalindrome(s):\n",
        "    return s == s[::-1]\n",
        "\n",
        "\n",
        "s = \"OmkarPraju\"\n",
        "ans = isPalindrome(s)\n",
        "\n",
        "if ans:\n",
        "    print(\"Yes\")\n",
        "else:\n",
        "    print(\"No\")"
      ]
    },
    {
      "cell_type": "code",
      "execution_count": null,
      "metadata": {
        "colab": {
          "base_uri": "https://localhost:8080/"
        },
        "id": "olQ26k-mZZQQ",
        "outputId": "b9452a57-68ed-470d-f5ba-3619fb649b84"
      },
      "outputs": [
        {
          "name": "stdout",
          "output_type": "stream",
          "text": [
            "Enter Marks Obtained in 5 Subjects: \n",
            "Your Grade is B1\n"
          ]
        }
      ],
      "source": [
        "#10. Write a Python program to calculate the grade based on a student's score.\n",
        "\n",
        "print(\"Enter Marks Obtained in 5 Subjects: \")\n",
        "total1 = 60\n",
        "total2 = 70\n",
        "total3 = 76\n",
        "total4 = 99\n",
        "total5 = 78\n",
        "\n",
        "tot = total1 + total2 + total3 + total4 + total4\n",
        "avg = tot / 5\n",
        "\n",
        "if avg >= 91 and avg <= 100:\n",
        "    print(\"Your Grade is A1\")\n",
        "elif avg >= 81 and avg < 91:\n",
        "    print(\"Your Grade is A2\")\n",
        "elif avg >= 71 and avg < 81:\n",
        "    print(\"Your Grade is B1\")\n",
        "elif avg >= 61 and avg < 71:\n",
        "    print(\"Your Grade is B2\")\n",
        "elif avg >= 51 and avg < 61:\n",
        "    print(\"Your Grade is C1\")\n",
        "else:\n",
        "    print(\"Invalid Input!\")"
      ]
    },
    {
      "cell_type": "code",
      "execution_count": null,
      "metadata": {
        "id": "nSyg4FeHaA0j"
      },
      "outputs": [],
      "source": [
        "# NESTED If-Else Statement"
      ]
    },
    {
      "cell_type": "code",
      "execution_count": null,
      "metadata": {
        "colab": {
          "base_uri": "https://localhost:8080/"
        },
        "id": "DgEa3eFFaQyz",
        "outputId": "fd3504a9-5ec7-457a-eaff-8e7563aa82be"
      },
      "outputs": [
        {
          "name": "stdout",
          "output_type": "stream",
          "text": [
            "The largest number is 14\n"
          ]
        }
      ],
      "source": [
        "#11. Write a program to find the largest among three numbers using nested if-else statements.\n",
        "\n",
        "num1 = 10\n",
        "num2 = 14\n",
        "num3 = 12\n",
        "\n",
        "if (num1 >= num2) and (num1 >= num3):\n",
        "   largest = num1\n",
        "elif (num2 >= num1) and (num2 >= num3):\n",
        "   largest = num2\n",
        "else:\n",
        "   largest = num3\n",
        "\n",
        "print(\"The largest number is\", largest)\n"
      ]
    },
    {
      "cell_type": "code",
      "execution_count": null,
      "metadata": {
        "colab": {
          "base_uri": "https://localhost:8080/"
        },
        "id": "ftMp0NDloKPY",
        "outputId": "b39fdcb5-1454-4674-f6a9-61359a69424e"
      },
      "outputs": [
        {
          "name": "stdout",
          "output_type": "stream",
          "text": [
            "Input lengths of the triangle sides: \n",
            "x: 5\n",
            "y: 6\n",
            "z: 7\n",
            "Scalene triangle\n"
          ]
        }
      ],
      "source": [
        "#12. Implement a program to determine if a triangle is equilateral, isosceles, or scalene.\n",
        "\n",
        "print(\"Input lengths of the triangle sides: \")\n",
        "x = int(input(\"x: \"))\n",
        "y = int(input(\"y: \"))\n",
        "z = int(input(\"z: \"))\n",
        "if x == y == z:\n",
        "    print(\"Equilateral triangle\")\n",
        "elif x == y or y == z or z == x:\n",
        "    print(\"Isosceles triangle\")\n",
        "else:\n",
        "    print(\"Scalene triangle\")\n"
      ]
    },
    {
      "cell_type": "code",
      "execution_count": null,
      "metadata": {
        "colab": {
          "base_uri": "https://localhost:8080/"
        },
        "id": "B5Pm_H-XpDoi",
        "outputId": "22e9905e-bf12-46e3-e0b2-be0e34cd09b2"
      },
      "outputs": [
        {
          "name": "stdout",
          "output_type": "stream",
          "text": [
            "2002 is not a leap year\n"
          ]
        }
      ],
      "source": [
        "#13. Develop a program that checks if a year is a leap year and also if it is a century year.\n",
        "\n",
        "year = 2002\n",
        "if (year % 400 == 0) and (year % 100 == 0):\n",
        "    print(\"{0} is a leap year\".format(year))\n",
        "\n",
        "elif (year % 4 ==0) and (year % 100 != 0):\n",
        "    print(\"{0} is a leap year\".format(year))\n",
        "\n",
        "else:\n",
        "    print(\"{0} is not a leap year\".format(year))"
      ]
    },
    {
      "cell_type": "code",
      "execution_count": null,
      "metadata": {
        "colab": {
          "base_uri": "https://localhost:8080/"
        },
        "id": "UZqTaofMq02R",
        "outputId": "ee8ab102-33ce-47f7-9b1a-6749013137c8"
      },
      "outputs": [
        {
          "name": "stdout",
          "output_type": "stream",
          "text": [
            "Enter a number: -5\n",
            "The number is negative\n"
          ]
        }
      ],
      "source": [
        "#14. Write a Python script to determine if a number is positive, negative, or zero.\n",
        "\n",
        "\n",
        "number = float(input(\"Enter a number: \"))\n",
        "if number > 0:\n",
        "    print(\"The number is positive\")\n",
        "elif number < 0:\n",
        "    print(\"The number is negative\")\n",
        "else:\n",
        "    print(\"The number is zero\")\n"
      ]
    },
    {
      "cell_type": "code",
      "execution_count": null,
      "metadata": {
        "colab": {
          "base_uri": "https://localhost:8080/"
        },
        "id": "zQ46GE3Ospf1",
        "outputId": "8b58b087-eb39-4089-d91b-b73e2b943d16"
      },
      "outputs": [
        {
          "name": "stdout",
          "output_type": "stream",
          "text": [
            "Enter your age: 22\n",
            "Your age group is Adult\n"
          ]
        }
      ],
      "source": [
        "#15. Create a program to check if a person is a teenager (between 13 and 19 years old).\n",
        "\n",
        "age = int(input(\"Enter your age: \"))\n",
        "\n",
        "if age >= 0 and age <= 12:\n",
        "  print(\"Your age group is Child\")\n",
        "elif age >= 13 and age <= 19:\n",
        "  print(\"Your age group is Teenager\")\n",
        "elif age >= 20 and age <= 59:\n",
        "  print(\"Your age group is Adult\")\n",
        "else:\n",
        "  print(\"Your age group is Senior Citizen\")"
      ]
    },
    {
      "cell_type": "code",
      "execution_count": null,
      "metadata": {
        "colab": {
          "base_uri": "https://localhost:8080/"
        },
        "id": "sViJDiuLtHHy",
        "outputId": "239a7244-21b4-4022-8c42-6214fa284232"
      },
      "outputs": [
        {
          "name": "stdout",
          "output_type": "stream",
          "text": [
            "Enter length of side a: 10\n",
            "Enter length of side b: 25\n",
            "Enter length of side c: 76\n",
            "Tringle is not possible from given sides.\n"
          ]
        }
      ],
      "source": [
        "#16. Develop a program that determines the type of angle based on its measure (acute, obtuse, or right).\n",
        "\n",
        "def is_valid_triangle(a,b,c):\n",
        "    if a+b>=c and b+c>=a and c+a>=b:\n",
        "        return True\n",
        "    else:\n",
        "        return False\n",
        "\n",
        "def type_of_triangle(a,b,c):\n",
        "    if a==b and b==c:\n",
        "        print('Triangle is Equilateral.')\n",
        "    elif a==b or b==c or a==c:\n",
        "        print('Triangle is Isosceles.')\n",
        "    else:\n",
        "        print('Triangle is Scalane')\n",
        "\n",
        "side_a = float(input('Enter length of side a: '))\n",
        "side_b = float(input('Enter length of side b: '))\n",
        "side_c = float(input('Enter length of side c: '))\n",
        "if is_valid_triangle(side_a, side_b, side_c):\n",
        "    type_of_triangle(side_a, side_b, side_c)\n",
        "else:\n",
        "    print('Tringle is not possible from given sides.')"
      ]
    },
    {
      "cell_type": "code",
      "execution_count": null,
      "metadata": {
        "colab": {
          "base_uri": "https://localhost:8080/"
        },
        "id": "hJ9nUe87tveK",
        "outputId": "934cd393-f949-4db8-bb0f-cefa7235b66d"
      },
      "outputs": [
        {
          "name": "stdout",
          "output_type": "stream",
          "text": [
            "real and different roots\n",
            "2.0\n",
            "-12.0\n"
          ]
        }
      ],
      "source": [
        "#17. Write a Python program to calculate the roots of a quadratic equation.\n",
        "\n",
        "import math\n",
        "\n",
        "\n",
        "def equationroots( a, b, c):\n",
        "\n",
        "\n",
        "    dis = b * b - 4 * a * c\n",
        "    sqrt_val = math.sqrt(abs(dis))\n",
        "\n",
        "    if dis > 0:\n",
        "        print(\"real and different roots\")\n",
        "        print((-b + sqrt_val)/(2 * a))\n",
        "        print((-b - sqrt_val)/(2 * a))\n",
        "\n",
        "    elif dis == 0:\n",
        "        print(\"real and same roots\")\n",
        "        print(-b / (2 * a))\n",
        "\n",
        "    else:\n",
        "        print(\"Complex Roots\")\n",
        "        print(- b / (2 * a), + i, sqrt_val)\n",
        "        print(- b / (2 * a), - i, sqrt_val)\n",
        "\n",
        "a = 1\n",
        "b = 10\n",
        "c = -24\n",
        "\n",
        "if a == 0:\n",
        "        print(\"Input correct quadratic equation\")\n",
        "\n",
        "else:\n",
        "    equationroots(a, b, c)\n",
        "\n"
      ]
    },
    {
      "cell_type": "code",
      "execution_count": null,
      "metadata": {
        "colab": {
          "base_uri": "https://localhost:8080/"
        },
        "id": "dQ-5Z1IWujIf",
        "outputId": "d1324536-e74c-4f05-b905-7ef7ab983659"
      },
      "outputs": [
        {
          "name": "stdout",
          "output_type": "stream",
          "text": [
            "Datetime is: 2024-01-02 05:54:00.366459\n",
            "Day of a week is: 1\n"
          ]
        }
      ],
      "source": [
        "#18. Implement a program to determine the day of the week based on a user-provided number (1 for Monday, 2 for Tuesday, etc.).\n",
        "\n",
        "from datetime import datetime\n",
        "\n",
        "dt = datetime.now()\n",
        "print('Datetime is:', dt)\n",
        "\n",
        "x = dt.weekday()\n",
        "print('Day of a week is:', x)"
      ]
    },
    {
      "cell_type": "code",
      "execution_count": null,
      "metadata": {
        "colab": {
          "base_uri": "https://localhost:8080/"
        },
        "id": "RdYWCzYivEKw",
        "outputId": "aacf72c7-dcc3-43f9-c865-a9a14a702fc9"
      },
      "outputs": [
        {
          "name": "stdout",
          "output_type": "stream",
          "text": [
            "2006 is not a leap year\n"
          ]
        }
      ],
      "source": [
        "#19. Create a program that determines if a year is a leap year and also if it is evenly divisible by 400.\n",
        "\n",
        "year = 2006\n",
        "if (year % 400 == 0) and (year % 100 == 0):\n",
        "    print(\"{0} is a leap year\".format(year))\n",
        "\n",
        "elif (year % 4 ==0) and (year % 100 != 0):\n",
        "    print(\"{0} is a leap year\".format(year))\n",
        "\n",
        "else:\n",
        "    print(\"{0} is not a leap year\".format(year))"
      ]
    },
    {
      "cell_type": "code",
      "execution_count": null,
      "metadata": {
        "colab": {
          "base_uri": "https://localhost:8080/"
        },
        "id": "YTm1uFw7vqKa",
        "outputId": "c65f2ca8-bcbe-438d-ba25-5a380b1b8006"
      },
      "outputs": [
        {
          "name": "stdout",
          "output_type": "stream",
          "text": [
            "89 is a prime number\n"
          ]
        }
      ],
      "source": [
        "#20. Develop a program that checks if a given number is prime or not using nested if-else statements.\n",
        "\n",
        "\n",
        "num = 89\n",
        "flag = False\n",
        "\n",
        "if num == 1:\n",
        "    print(num, \"is not a prime number\")\n",
        "elif num > 1:\n",
        "    for i in range(2, num):\n",
        "        if (num % i) == 0:\n",
        "            flag = True\n",
        "            break\n",
        "    if flag:\n",
        "        print(num, \"is not a prime number\")\n",
        "    else:\n",
        "        print(num, \"is a prime number\")"
      ]
    },
    {
      "cell_type": "code",
      "execution_count": null,
      "metadata": {
        "id": "i-vT1G_6wSB_"
      },
      "outputs": [],
      "source": [
        "# ELIF Statement"
      ]
    },
    {
      "cell_type": "code",
      "execution_count": null,
      "metadata": {
        "colab": {
          "base_uri": "https://localhost:8080/"
        },
        "id": "yC6QQrsIw_qF",
        "outputId": "c0f12669-c206-4455-d6a8-c0ac6a3909dd"
      },
      "outputs": [
        {
          "name": "stdout",
          "output_type": "stream",
          "text": [
            "Enter Marks Obtained in 5 Subjects: \n",
            "Your Grade is A1\n"
          ]
        }
      ],
      "source": [
        "#21. Write a Python program to assign grades based on different ranges of scores using elif statements.\n",
        "\n",
        "\n",
        "print(\"Enter Marks Obtained in 5 Subjects: \")\n",
        "total1 = 98\n",
        "total2 = 87\n",
        "total3 = 76\n",
        "total4 = 99\n",
        "total5 = 89\n",
        "\n",
        "tot = total1 + total2 + total3 + total4 + total4\n",
        "avg = tot / 5\n",
        "\n",
        "if avg >= 91 and avg <= 100:\n",
        "    print(\"Your Grade is A1\")\n",
        "elif avg >= 81 and avg < 91:\n",
        "    print(\"Your Grade is A2\")\n",
        "elif avg >= 71 and avg < 81:\n",
        "    print(\"Your Grade is B1\")\n",
        "elif avg >= 61 and avg < 71:\n",
        "    print(\"Your Grade is B2\")\n",
        "elif avg >= 51 and avg < 61:\n",
        "    print(\"Your Grade is C1\")\n",
        "elif avg >= 41 and avg < 51:\n",
        "    print(\"Your Grade is C2\")\n",
        "elif avg >= 33 and avg < 41:\n",
        "    print(\"Your Grade is D\")\n",
        "elif avg >= 21 and avg < 33:\n",
        "    print(\"Your Grade is E1\")\n",
        "elif avg >= 0 and avg < 21:\n",
        "    print(\"Your Grade is E2\")\n",
        "else:\n",
        "    print(\"Invalid Input!\")"
      ]
    },
    {
      "cell_type": "code",
      "execution_count": null,
      "metadata": {
        "colab": {
          "base_uri": "https://localhost:8080/"
        },
        "id": "UY0qcqd4xiDg",
        "outputId": "09e02e1e-4bb0-409a-c107-b33b3a77faac"
      },
      "outputs": [
        {
          "name": "stdout",
          "output_type": "stream",
          "text": [
            "Enter length of side a: 7\n",
            "Enter length of side b: 8.9\n",
            "Enter length of side c: 5\n",
            "Triangle is Scalane\n"
          ]
        }
      ],
      "source": [
        "#22. Implement a program to determine the type of a triangle based on its angles.\n",
        "def is_valid_triangle(a,b,c):\n",
        "    if a+b>=c and b+c>=a and c+a>=b:\n",
        "        return True\n",
        "    else:\n",
        "        return False\n",
        "\n",
        "def type_of_triangle(a,b,c):\n",
        "    if a==b and b==c:\n",
        "        print('Triangle is Equilateral.')\n",
        "    elif a==b or b==c or a==c:\n",
        "        print('Triangle is Isosceles.')\n",
        "    else:\n",
        "        print('Triangle is Scalane')\n",
        "side_a = float(input('Enter length of side a: '))\n",
        "side_b = float(input('Enter length of side b: '))\n",
        "side_c = float(input('Enter length of side c: '))\n",
        "if is_valid_triangle(side_a, side_b, side_c):\n",
        "    type_of_triangle(side_a, side_b, side_c)\n",
        "else:\n",
        "    print('Tringle is not possible from given sides.')\n",
        "\n"
      ]
    },
    {
      "cell_type": "code",
      "execution_count": null,
      "metadata": {
        "colab": {
          "base_uri": "https://localhost:8080/"
        },
        "id": "VD3O9YAfznEy",
        "outputId": "b86f4f57-752a-4e18-a9d3-e573ed633b27"
      },
      "outputs": [
        {
          "name": "stdout",
          "output_type": "stream",
          "text": [
            "Enter your height in meters: 5\n",
            "Enter your Weight in Kg: 7\n",
            "BMI Calculated is:   0.28\n",
            "You are very underweight\n"
          ]
        }
      ],
      "source": [
        "#23. Develop a program to categorize a given person's BMI into underweight, normal, overweight, or obese using elif statements.\n",
        "\n",
        "h=float(input(\"Enter your height in meters: \"))\n",
        "w=float(input(\"Enter your Weight in Kg: \"))\n",
        "\n",
        "BMI=w/(h*h)\n",
        "print(\"BMI Calculated is:  \",BMI)\n",
        "\n",
        "if(BMI>0):\n",
        "    if(BMI<=16):\n",
        "        print(\"You are very underweight\")\n",
        "    elif(BMI<=18.5):\n",
        "        print(\"You are underweight\")\n",
        "    elif(BMI<=25):\n",
        "        print(\"Congrats! You are Healthy\")\n",
        "    elif(BMI<=30):\n",
        "        print(\"You are overweight\")\n",
        "    else:\n",
        "        print(\"You are very overweight\")\n",
        "else:\n",
        "    print(\"enter valid details\")"
      ]
    },
    {
      "cell_type": "code",
      "execution_count": null,
      "metadata": {
        "colab": {
          "base_uri": "https://localhost:8080/"
        },
        "id": "wihHEixF0tDY",
        "outputId": "d7a01448-16df-4133-de0c-ff160edeb8d5"
      },
      "outputs": [
        {
          "name": "stdout",
          "output_type": "stream",
          "text": [
            "Enter a number: -9.80\n",
            "Negative number\n"
          ]
        }
      ],
      "source": [
        "#24. Create a program that determines whether a given number is positive, negative, or zero using elif statements.\n",
        "num = float(input(\"Enter a number: \"))\n",
        "if num > 0:\n",
        "   print(\"Positive number\")\n",
        "elif num == 0:\n",
        "   print(\"Zero\")\n",
        "else:\n",
        "   print(\"Negative number\")\n",
        "\n"
      ]
    },
    {
      "cell_type": "code",
      "execution_count": null,
      "metadata": {
        "colab": {
          "base_uri": "https://localhost:8080/"
        },
        "id": "EVOjhK-G4qR9",
        "outputId": "9896a407-89e2-490f-b9e3-7118e6317184"
      },
      "outputs": [
        {
          "name": "stdout",
          "output_type": "stream",
          "text": [
            "Please Enter Your Own Character : u\n",
            "The Given Character  u is a Lowercase Alphabet\n"
          ]
        }
      ],
      "source": [
        "#25. Write a Python script to determine the type of a character (uppercase, lowercase, or special) using elif statements.\n",
        "\n",
        "o = input(\"Please Enter Your Own Character : \")\n",
        "\n",
        "if(o >= 'A' and o<= 'Z'):\n",
        "    print(\"The Given Character \", o, \"is an Uppercase Alphabet\")\n",
        "elif(o >= 'a' and o <= 'z'):\n",
        "    print(\"The Given Character \", o, \"is a Lowercase Alphabet\")\n",
        "else:\n",
        "    print(\"The Given Character \", o, \"is Not a Lower or Uppercase Alphabet\")\n"
      ]
    },
    {
      "cell_type": "code",
      "execution_count": null,
      "metadata": {
        "colab": {
          "base_uri": "https://localhost:8080/"
        },
        "id": "p_ozxEge5CMx",
        "outputId": "46b2e338-92d4-47fe-fc4b-2b783d7c3d93"
      },
      "outputs": [
        {
          "name": "stdout",
          "output_type": "stream",
          "text": [
            "Enter Sale Amount: 100\n",
            "Discount :  5.0\n",
            "Net Pay  :  95.0\n"
          ]
        }
      ],
      "source": [
        "#26. Implement a program to calculate the discounted price based on different purchase amounts using elif statements.\n",
        "\n",
        "amt = int(input(\"Enter Sale Amount: \"))\n",
        "if(amt>0):\n",
        "    if amt<=5000:\n",
        "       disc = amt*0.05\n",
        "    elif amt<=15000:\n",
        "        disc=amt*0.12\n",
        "    elif amt<=25000:\n",
        "        disc=0.2 * amt\n",
        "    else:\n",
        "         disc=0.3 * amt\n",
        "\n",
        "    print(\"Discount : \",disc)\n",
        "    print(\"Net Pay  : \",amt-disc)\n",
        "else:\n",
        "    print(\"Invalid Amount\")\n"
      ]
    },
    {
      "cell_type": "code",
      "execution_count": null,
      "metadata": {
        "colab": {
          "base_uri": "https://localhost:8080/"
        },
        "id": "f7x3sujw5vg6",
        "outputId": "35f1a7e4-9bbc-4578-ac8f-f05a52040a5c"
      },
      "outputs": [
        {
          "name": "stdout",
          "output_type": "stream",
          "text": [
            " Please enter Number of Units you Consumed : 500\n",
            "\n",
            "Electricity Bill = 3428.50\n"
          ]
        }
      ],
      "source": [
        "#27. Develop a program to calculate the electricity bill based on different consumption slabs using elif statements.\n",
        "\n",
        "units = int(input(\" Please enter Number of Units you Consumed : \"))\n",
        "\n",
        "if(units < 50):\n",
        "    amount = units * 2.60\n",
        "    surcharge = 25\n",
        "elif(units <= 100):\n",
        "    amount = 130 + ((units - 50) * 3.25)\n",
        "    surcharge = 35\n",
        "elif(units <= 200):\n",
        "    amount = 130 + 162.50 + ((units - 100) * 5.26)\n",
        "    surcharge = 45\n",
        "else:\n",
        "    amount = 130 + 162.50 + 526 + ((units - 200) * 8.45)\n",
        "    surcharge = 75\n",
        "\n",
        "total = amount + surcharge\n",
        "print(\"\\nElectricity Bill = %.2f\"  %total)"
      ]
    },
    {
      "cell_type": "code",
      "execution_count": null,
      "metadata": {
        "colab": {
          "base_uri": "https://localhost:8080/"
        },
        "id": "-E87nEgA6EOF",
        "outputId": "084dc24b-5d52-40be-90ab-c77d7f7793d0"
      },
      "outputs": [
        {
          "name": "stdout",
          "output_type": "stream",
          "text": [
            "The angles of the quadrilateral are A=150.26, B=29.74, C=157.38, and D=22.62 degrees.\n"
          ]
        }
      ],
      "source": [
        "#28. Create a program to determine the type of quadrilateral based on its angles and sides using elif statements.\n",
        "import math\n",
        "\n",
        "AX = 0.0\n",
        "AY = 0.0\n",
        "BX = 1.0\n",
        "BY = 2.0\n",
        "CX = 4.0\n",
        "CY = 4.0\n",
        "DX = 2.0\n",
        "DY = 1.0\n",
        "\n",
        "ab_x = BX - AX\n",
        "ab_y = BY - AY\n",
        "bc_x = CX - BX\n",
        "bc_y = CY - BY\n",
        "cd_x = DX - CX\n",
        "cd_y = DY - CY\n",
        "\n",
        "dot_product_ab_bc = ab_x * bc_x + ab_y * bc_y\n",
        "dot_product_bc_cd = bc_x * cd_x + bc_y * cd_y\n",
        "\n",
        "mag_ab = math.sqrt(ab_x * ab_x + ab_y * ab_y)\n",
        "mag_bc = math.sqrt(bc_x * bc_x + bc_y * bc_y)\n",
        "mag_cd = math.sqrt(cd_x * cd_x + cd_y * cd_y)\n",
        "\n",
        "cos_ab_bc = dot_product_ab_bc / (mag_ab * mag_bc)\n",
        "cos_bc_cd = dot_product_bc_cd / (mag_bc * mag_cd)\n",
        "angle_a = math.acos(-cos_ab_bc) * 180 / math.pi\n",
        "angle_b = math.acos(cos_ab_bc) * 180 / math.pi\n",
        "angle_c = math.acos(cos_bc_cd) * 180 / math.pi\n",
        "angle_d = math.acos(-cos_bc_cd) * 180 / math.pi\n",
        "\n",
        "print(f\"The angles of the quadrilateral are A={angle_a:.2f}, B={angle_b:.2f}, C={angle_c:.2f}, and D={angle_d:.2f} degrees.\")\n",
        "\n"
      ]
    },
    {
      "cell_type": "code",
      "execution_count": null,
      "metadata": {
        "colab": {
          "base_uri": "https://localhost:8080/"
        },
        "id": "4w3Y99T67LIb",
        "outputId": "d1ce51d1-8f00-499d-c770-49dda5555a0b"
      },
      "outputs": [
        {
          "name": "stdout",
          "output_type": "stream",
          "text": [
            "Input the month (e.g. January, February etc.): july\n",
            "Input the day: 31\n",
            "Season is autumn\n"
          ]
        }
      ],
      "source": [
        "#29. Write a Python script to determine the season based on a user-provided month using elif statements.\n",
        "\n",
        "month = input(\"Input the month (e.g. January, February etc.): \")\n",
        "day = int(input(\"Input the day: \"))\n",
        "\n",
        "if month in ('January', 'February', 'March'):\n",
        "    season = 'winter'\n",
        "elif month in ('April', 'May', 'June'):\n",
        "    season = 'spring'\n",
        "elif month in ('July', 'August', 'September'):\n",
        "    season = 'summer'\n",
        "else:\n",
        "    season = 'autumn'\n",
        "\n",
        "if (month == 'March') and (day > 19):\n",
        "    season = 'spring'\n",
        "elif (month == 'June') and (day > 20):\n",
        "    season = 'summer'\n",
        "elif (month == 'September') and (day > 21):\n",
        "    season = 'autumn'\n",
        "elif (month == 'December') and (day > 20):\n",
        "    season = 'winter'\n",
        "print(\"Season is\", season)\n"
      ]
    },
    {
      "cell_type": "code",
      "execution_count": null,
      "metadata": {
        "colab": {
          "base_uri": "https://localhost:8080/"
        },
        "id": "ziTEhQVm8x21",
        "outputId": "18c9bf8b-5a1d-452d-8717-6c5a7864badd"
      },
      "outputs": [
        {
          "name": "stdout",
          "output_type": "stream",
          "text": [
            "1\n"
          ]
        }
      ],
      "source": [
        "#30. Implement a program to determine the type of a year (leap or common) and month (30 or 31 days) using elif statements.\n",
        "\n",
        "\n",
        "\n",
        "def ISLP(y):\n",
        "  if((y % 400 == 0) or\n",
        "     (y % 100 != 0) and\n",
        "     (y % 4 == 0)):\n",
        "    return 1;\n",
        "  else:\n",
        "    return 0;\n",
        "\n",
        "# Driver code\n",
        "if __name__=='__main__':\n",
        "\n",
        "  year = 2020;\n",
        "  print(ISLP(year));"
      ]
    },
    {
      "cell_type": "code",
      "execution_count": null,
      "metadata": {
        "id": "oaAb0e1Q9Vrl"
      },
      "outputs": [],
      "source": [
        "#BASIC LEVEL"
      ]
    },
    {
      "cell_type": "code",
      "execution_count": null,
      "metadata": {
        "colab": {
          "base_uri": "https://localhost:8080/"
        },
        "id": "SlQ7b9H49gDn",
        "outputId": "dcad5d67-32c5-4fd3-af98-809621713ecf"
      },
      "outputs": [
        {
          "name": "stdout",
          "output_type": "stream",
          "text": [
            "Positive\n",
            "Equal to zero\n",
            "Negative\n"
          ]
        }
      ],
      "source": [
        "#1. Write a Python program that checks if a given number is positive, negative, or zero.\n",
        "\n",
        "def check(n):\n",
        "\n",
        "    if n > 0:\n",
        "        print(\"Positive\")\n",
        "\n",
        "    elif n < 0:\n",
        "        print(\"Negative\")\n",
        "    else:\n",
        "        print(\"Equal to zero\")\n",
        "\n",
        "check(5)\n",
        "check(0)\n",
        "check(-5)\n"
      ]
    },
    {
      "cell_type": "code",
      "execution_count": null,
      "metadata": {
        "colab": {
          "base_uri": "https://localhost:8080/"
        },
        "id": "A-KRIvsHN_t-",
        "outputId": "4d17cf81-e392-46a1-db32-e79ded8c6983"
      },
      "outputs": [
        {
          "name": "stdout",
          "output_type": "stream",
          "text": [
            "Hello\n",
            "Eligible for vote\n"
          ]
        }
      ],
      "source": [
        "#2. Create a program to determine if a person is eligible to vote based on their age.\n",
        "\n",
        "def check(p):\n",
        "  if p>18:\n",
        "    print(\"Eligible for vote\")\n",
        "  elif p<18:\n",
        "    print(\"Not eligible vote\")\n",
        "\n",
        "  else:\n",
        "      print(\"Hello\")\n",
        "check(18)\n",
        "check(21)"
      ]
    },
    {
      "cell_type": "code",
      "execution_count": null,
      "metadata": {
        "colab": {
          "base_uri": "https://localhost:8080/"
        },
        "id": "O5t728RFOuN8",
        "outputId": "688fc007-7d42-4161-eb99-7ab5de4024c1"
      },
      "outputs": [
        {
          "name": "stdout",
          "output_type": "stream",
          "text": [
            "90\n"
          ]
        }
      ],
      "source": [
        "#3. Write a program to find the maximum of two given numbers using conditional statements.\n",
        "def maximum(a, b):\n",
        "\n",
        "    if a >= b:\n",
        "        return a\n",
        "    else:\n",
        "        return b\n",
        "\n",
        "a = 78\n",
        "b = 90\n",
        "print(maximum(a, b))\n"
      ]
    },
    {
      "cell_type": "code",
      "execution_count": null,
      "metadata": {
        "colab": {
          "base_uri": "https://localhost:8080/"
        },
        "id": "gWztN8-vPjd7",
        "outputId": "f55ee31a-9bd1-40ac-fce3-f54181812584"
      },
      "outputs": [
        {
          "name": "stdout",
          "output_type": "stream",
          "text": [
            "Enter Marks Obtained in 5 Subjects: \n",
            "Your Grade is A2\n"
          ]
        }
      ],
      "source": [
        "#4. Develop a program that calculates the grade of a student based on their exam score.\n",
        "print(\"Enter Marks Obtained in 5 Subjects: \")\n",
        "total1 = 100\n",
        "total2 = 78\n",
        "total3 = 80\n",
        "total4 = 90\n",
        "total5 = 99\n",
        "\n",
        "tot = total1 + total2 + total3 + total4 + total4\n",
        "avg = tot / 5\n",
        "\n",
        "if avg >= 91 and avg <= 100:\n",
        "    print(\"Your Grade is A1\")\n",
        "elif avg >= 81 and avg < 91:\n",
        "    print(\"Your Grade is A2\")\n",
        "elif avg >= 71 and avg < 81:\n",
        "    print(\"Your Grade is B1\")\n",
        "elif avg >= 61 and avg < 71:\n",
        "    print(\"Your Grade is B2\")\n",
        "elif avg >= 51 and avg < 61:\n",
        "    print(\"Your Grade is C1\")\n",
        "else:\n",
        "    print(\"Invalid Input!\")\n",
        "\n",
        "\n"
      ]
    },
    {
      "cell_type": "code",
      "execution_count": null,
      "metadata": {
        "colab": {
          "base_uri": "https://localhost:8080/"
        },
        "id": "_hlm4AkKP5q3",
        "outputId": "3f4d224e-ce4e-4a96-c257-f526ef0e3145"
      },
      "outputs": [
        {
          "name": "stdout",
          "output_type": "stream",
          "text": [
            "2005 is not a leap year\n"
          ]
        }
      ],
      "source": [
        "#5. Create a program that checks if a year is a leap year or not.\n",
        "\n",
        "year = 2005\n",
        "if (year % 400 == 0) and (year % 100 == 0):\n",
        "    print(\"{0} is a leap year\".format(year))\n",
        "elif (year % 4 ==0) and (year % 100 != 0):\n",
        "    print(\"{0} is a leap year\".format(year))\n",
        "else:\n",
        "    print(\"{0} is not a leap year\".format(year))"
      ]
    },
    {
      "cell_type": "code",
      "execution_count": null,
      "metadata": {
        "colab": {
          "base_uri": "https://localhost:8080/"
        },
        "id": "fxtTP0WbQOGH",
        "outputId": "93733a5d-47a3-4841-efec-69d4b8ce7c73"
      },
      "outputs": [
        {
          "name": "stdout",
          "output_type": "stream",
          "text": [
            "Input lengths of the triangle sides: \n",
            "x: 45\n",
            "y: 45\n",
            "z: 90\n",
            "Isosceles triangle\n"
          ]
        }
      ],
      "source": [
        "#6. Write a program to classify a triangle based on its sides' lengths.\n",
        "\n",
        "\n",
        "print(\"Input lengths of the triangle sides: \")\n",
        "x = int(input(\"x: \"))\n",
        "y = int(input(\"y: \"))\n",
        "z = int(input(\"z: \"))\n",
        "if x == y == z:\n",
        "    print(\"Equilateral triangle\")\n",
        "elif x == y or y == z or z == x:\n",
        "    print(\"Isosceles triangle\")\n",
        "else:\n",
        "    print(\"Scalene triangle\")\n"
      ]
    },
    {
      "cell_type": "code",
      "execution_count": null,
      "metadata": {
        "colab": {
          "base_uri": "https://localhost:8080/"
        },
        "id": "_0-YVGL8Qg-z",
        "outputId": "86f676e1-d4be-45ca-ef66-dcae4c0bb7f6"
      },
      "outputs": [
        {
          "name": "stdout",
          "output_type": "stream",
          "text": [
            "The largest number is 567\n"
          ]
        }
      ],
      "source": [
        "#7. Build a program that determines the largest of three given numbers.\n",
        "\n",
        "num1 = 111\n",
        "num2 = 156\n",
        "num3 = 567\n",
        "\n",
        "if (num1 >= num2) and (num1 >= num3):\n",
        "   largest = num1\n",
        "elif (num2 >= num1) and (num2 >= num3):\n",
        "   largest = num2\n",
        "else:\n",
        "   largest = num3\n",
        "\n",
        "print(\"The largest number is\", largest)\n"
      ]
    },
    {
      "cell_type": "code",
      "execution_count": null,
      "metadata": {
        "colab": {
          "base_uri": "https://localhost:8080/"
        },
        "id": "mH5vjhhRQzkA",
        "outputId": "243ac3ef-2395-46f2-83a0-9c3da29ebcde"
      },
      "outputs": [
        {
          "name": "stdout",
          "output_type": "stream",
          "text": [
            "Vowel\n",
            "Consonant\n"
          ]
        }
      ],
      "source": [
        "#8. Develop a program that checks whether a character is a vowel or a consonant.\n",
        "def vowelOrConsonant(x):\n",
        "\n",
        "    if (x == 'a' or x == 'e' or\n",
        "        x == 'i' or x == 'o' or x == 'u'):\n",
        "        print(\"Vowel\")\n",
        "    else:\n",
        "        print(\"Consonant\")\n",
        "\n",
        "vowelOrConsonant('o')\n",
        "vowelOrConsonant('R')\n"
      ]
    },
    {
      "cell_type": "code",
      "execution_count": null,
      "metadata": {
        "colab": {
          "base_uri": "https://localhost:8080/"
        },
        "id": "-2WJI7dPRIl_",
        "outputId": "f24520b2-e0a6-4ce6-9bc9-6c9b2379847c"
      },
      "outputs": [
        {
          "name": "stdout",
          "output_type": "stream",
          "text": [
            "Enter Sale Amount: 150\n",
            "Discount :  7.5\n",
            "Net Pay  :  142.5\n"
          ]
        }
      ],
      "source": [
        "#9. Create a program to calculate the total cost of a shopping cart based on discounts.\n",
        "\n",
        "amt = int(input(\"Enter Sale Amount: \"))\n",
        "if(amt>0):\n",
        "    if amt<=5000:\n",
        "       disc = amt*0.05\n",
        "    elif amt<=15000:\n",
        "        disc=amt*0.12\n",
        "    elif amt<=25000:\n",
        "        disc=0.2 * amt\n",
        "    else:\n",
        "         disc=0.3 * amt\n",
        "\n",
        "    print(\"Discount : \",disc)\n",
        "    print(\"Net Pay  : \",amt-disc)\n",
        "else:\n",
        "    print(\"Invalid Amount\")\n"
      ]
    },
    {
      "cell_type": "code",
      "execution_count": null,
      "metadata": {
        "colab": {
          "base_uri": "https://localhost:8080/"
        },
        "id": "Rb0wMKKgRy1d",
        "outputId": "0a33d9d1-9e95-40ff-df73-e34050843a28"
      },
      "outputs": [
        {
          "name": "stdout",
          "output_type": "stream",
          "text": [
            "Enter a number: 500\n",
            "500 is Even\n"
          ]
        }
      ],
      "source": [
        "#10. Write a program that checks if a given number is even or odd.\n",
        "num = int(input(\"Enter a number: \"))\n",
        "if (num % 2) == 0:\n",
        "   print(\"{0} is Even\".format(num))\n",
        "else:\n",
        "   print(\"{0} is Odd\".format(num))\n",
        "\n"
      ]
    },
    {
      "cell_type": "code",
      "execution_count": null,
      "metadata": {
        "id": "FmxrhvOJTbbu"
      },
      "outputs": [],
      "source": [
        "#INTERMEDIATE LEVEL"
      ]
    },
    {
      "cell_type": "code",
      "execution_count": null,
      "metadata": {
        "colab": {
          "base_uri": "https://localhost:8080/"
        },
        "id": "IKdf7A6uThaZ",
        "outputId": "bfd75c02-95c9-4b71-cc16-8ed03fd78088"
      },
      "outputs": [
        {
          "name": "stdout",
          "output_type": "stream",
          "text": [
            "The solution are (-3+0j) and (-2+0j)\n"
          ]
        }
      ],
      "source": [
        "#11. Write a program that calculates the roots of a quadratic equation .\n",
        "\n",
        "\n",
        "import cmath\n",
        "\n",
        "a = 1\n",
        "b = 5\n",
        "c = 6\n",
        "d = (b**2) - (4*a*c)\n",
        "\n",
        "sol1 = (-b-cmath.sqrt(d))/(2*a)\n",
        "sol2 = (-b+cmath.sqrt(d))/(2*a)\n",
        "\n",
        "print('The solution are {0} and {1}'.format(sol1,sol2))\n"
      ]
    },
    {
      "cell_type": "code",
      "execution_count": null,
      "metadata": {
        "colab": {
          "base_uri": "https://localhost:8080/"
        },
        "id": "CsMV9T5ATvJm",
        "outputId": "62f9e7d9-1bc4-492b-f260-12a3c12dd553"
      },
      "outputs": [
        {
          "name": "stdout",
          "output_type": "stream",
          "text": [
            "The day of the week for 2002-07-31 is 3 (weekday)\n"
          ]
        }
      ],
      "source": [
        "#12. Create a program that determines the day of the week based on the day number (1-7).\n",
        "\n",
        "\n",
        "import datetime\n",
        "import calendar\n",
        "\n",
        "def check_weekday_or_weekend(date):\n",
        "    try:\n",
        "        given_date = datetime.datetime.strptime(date, '%d %m %Y')\n",
        "\n",
        "        day_of_week = (given_date.weekday() + 1) % 7\n",
        "\n",
        "        if day_of_week < 5:\n",
        "            day_type = 'weekday'\n",
        "        else:\n",
        "            day_type = 'weekend'\n",
        "\n",
        "        print(f\"The day of the week for {given_date.strftime('%Y-%m-%d')} is {day_of_week} ({day_type})\")\n",
        "\n",
        "    except ValueError as e:\n",
        "        print(f\"Error: {e}\")\n",
        "date = '31 07 2002'\n",
        "check_weekday_or_weekend(date)"
      ]
    },
    {
      "cell_type": "code",
      "execution_count": null,
      "metadata": {
        "colab": {
          "base_uri": "https://localhost:8080/"
        },
        "id": "37S7ssROVGOI",
        "outputId": "d907fe7d-8b3d-4167-c21b-b2362ca44fb1"
      },
      "outputs": [
        {
          "name": "stdout",
          "output_type": "stream",
          "text": [
            "number :  5\n",
            "Factorial :  120\n"
          ]
        }
      ],
      "source": [
        "#13. Develop a program that calculates the factorial of a given number using recursion.\n",
        "\n",
        "\n",
        "def factorial(n):\n",
        "\n",
        "\n",
        "    if (n==1 or n==0):\n",
        "        return 1\n",
        "    else:\n",
        "        return (n * factorial(n - 1))\n",
        "\n",
        "num = 5;\n",
        "print(\"number : \",num)\n",
        "print(\"Factorial : \",factorial(num))"
      ]
    },
    {
      "cell_type": "code",
      "execution_count": null,
      "metadata": {
        "colab": {
          "base_uri": "https://localhost:8080/"
        },
        "id": "bIn0GlVGWG00",
        "outputId": "9f3f228e-2629-43b4-e330-c55a386e511b"
      },
      "outputs": [
        {
          "name": "stdout",
          "output_type": "stream",
          "text": [
            "The largest number is 14\n"
          ]
        }
      ],
      "source": [
        "#14. Write a program to find the largest among three numbers without using the `max()` function.\n",
        "\n",
        "num1 = 10\n",
        "num2 = 14\n",
        "num3 = 12\n",
        "\n",
        "if (num1 >= num2) and (num1 >= num3):\n",
        "   largest = num1\n",
        "elif (num2 >= num1) and (num2 >= num3):\n",
        "   largest = num2\n",
        "else:\n",
        "   largest = num3\n",
        "\n",
        "print(\"The largest number is\", largest)\n"
      ]
    },
    {
      "cell_type": "code",
      "execution_count": null,
      "metadata": {
        "colab": {
          "base_uri": "https://localhost:8080/"
        },
        "id": "aTa5AhbiW9nj",
        "outputId": "6f2911de-e542-44ad-ec32-369b8d7becf1"
      },
      "outputs": [
        {
          "name": "stdout",
          "output_type": "stream",
          "text": [
            "\n",
            "Welcome to the Pythondex ATM\n",
            "Please enter your four digit pin: 9988\n",
            "Entered wrong pin\n"
          ]
        }
      ],
      "source": [
        "#15. Create a program that simulates a basic ATM transaction menu.\n",
        "\n",
        "\n",
        "\n",
        "user = {\n",
        "    'pin': 1234,\n",
        "    'balance':1000\n",
        "}\n",
        "\n",
        "def widthdraw_cash():\n",
        "    while True:\n",
        "        amount = int(input(\"Enter the amount of money you want to widthdraw: \"))\n",
        "        if amount > user['balance']:\n",
        "            print(\"You don't have sufficient balance to make this widthdrawal\")\n",
        "        else:\n",
        "            user['balance'] = user['balance'] - amount\n",
        "            print(f\"{amount} Dollars successfully widthdrawn your remaining balance is {user['balance']} Dollars\")\n",
        "            print('')\n",
        "            return False\n",
        "\n",
        "def balance_enquiry():\n",
        "    print(f\"Total balance {user['balance']} Dollars\")\n",
        "    print('')\n",
        "\n",
        "\n",
        "is_quit = False\n",
        "\n",
        "print('')\n",
        "print(\"Welcome to the Pythondex ATM\")\n",
        "\n",
        "pin = int(input('Please enter your four digit pin: '))\n",
        "\n",
        "if pin == user['pin']:\n",
        "    while is_quit == False:\n",
        "        print(\"what do you want to do\")\n",
        "        print(\" Enter 1 to Widthdraw Cash \\n Enter 2 for Balance Enquiry \\n Enter 3 to Quit\")\n",
        "\n",
        "        query = int(input(\"Enter the number corresponding to the activity you want to do: \"))\n",
        "\n",
        "        if query == 1:\n",
        "            widthdraw_cash()\n",
        "        elif query == 2:\n",
        "            balance_enquiry()\n",
        "        elif query == 3:\n",
        "            is_quit = True\n",
        "\n",
        "        else:\n",
        "            print(\"Please enter a correct value shown\")\n",
        "else:\n",
        "    print(\"Entered wrong pin\")"
      ]
    },
    {
      "cell_type": "code",
      "execution_count": null,
      "metadata": {
        "colab": {
          "base_uri": "https://localhost:8080/"
        },
        "id": "U8BPWy7ZXd19",
        "outputId": "085da6f4-ab5b-48d2-ef6f-5e5c2749c8b3"
      },
      "outputs": [
        {
          "name": "stdout",
          "output_type": "stream",
          "text": [
            "No\n"
          ]
        }
      ],
      "source": [
        "#16. Build a program that checks if a given string is a palindrome or not.\n",
        "\n",
        "\n",
        "def isPalindrome(s):\n",
        "    return s == s[::-1]\n",
        "\n",
        "s = \"Tejaswini\"\n",
        "ans = isPalindrome(s)\n",
        "\n",
        "if ans:\n",
        "    print(\"Yes\")\n",
        "else:\n",
        "    print(\"No\")"
      ]
    },
    {
      "cell_type": "code",
      "execution_count": null,
      "metadata": {
        "colab": {
          "base_uri": "https://localhost:8080/"
        },
        "id": "WsAoJf97YW8n",
        "outputId": "5fd450ae-25d4-4d15-fd0a-55fb9144dd22"
      },
      "outputs": [
        {
          "name": "stdout",
          "output_type": "stream",
          "text": [
            "Average of the list = 35.75\n"
          ]
        }
      ],
      "source": [
        "#17. Write a program that calculates the average of a list of numbers, excluding the smallest and largest values\n",
        "def Average(lst):\n",
        "    return sum(lst) / len(lst)\n",
        "\n",
        "lst = [15, 9, 55, 41, 35, 20, 62, 49]\n",
        "average = Average(lst)\n",
        "print(\"Average of the list =\", round(average, 2))"
      ]
    },
    {
      "cell_type": "code",
      "execution_count": null,
      "metadata": {
        "colab": {
          "base_uri": "https://localhost:8080/"
        },
        "id": "hhegl9UzY3I5",
        "outputId": "8e18dc50-4c75-43da-ef56-c1c6c1f67800"
      },
      "outputs": [
        {
          "name": "stdout",
          "output_type": "stream",
          "text": [
            "96.00 Celsius is equivalent to: 204.80 Fahrenheit\n"
          ]
        }
      ],
      "source": [
        "#18. Develop a program that converts a given temperature from Celsius to Fahrenheit.\n",
        "\n",
        "celsius = 96\n",
        "\n",
        "fahrenheit = (celsius * 1.8) + 32\n",
        "\n",
        "print('%.2f Celsius is equivalent to: %.2f Fahrenheit'\n",
        "      % (celsius, fahrenheit))"
      ]
    },
    {
      "cell_type": "code",
      "execution_count": null,
      "metadata": {
        "colab": {
          "base_uri": "https://localhost:8080/"
        },
        "id": "WK2a9_f3ZHPN",
        "outputId": "4ee8c2f0-d1a0-4ae4-f6f8-84173615a843"
      },
      "outputs": [
        {
          "name": "stdout",
          "output_type": "stream",
          "text": [
            "Select operation.\n",
            "1.Add\n",
            "2.Subtract\n",
            "3.Multiply\n",
            "4.Divide\n",
            "Enter choice(1/2/3/4): 5\n",
            "Invalid Input\n",
            "Enter choice(1/2/3/4): 4\n",
            "Enter first number: 1\n",
            "Enter second number: 2\n",
            "1.0 / 2.0 = 0.5\n",
            "Let's do next calculation? (yes/no): yes\n",
            "Enter choice(1/2/3/4): 4\n",
            "Enter first number: 3\n",
            "Enter second number: 2\n",
            "3.0 / 2.0 = 1.5\n",
            "Let's do next calculation? (yes/no): no\n"
          ]
        }
      ],
      "source": [
        "#19. Create a program that simulates a basic calculator for addition, subtraction, multiplication, and division.\n",
        "\n",
        "def add(x, y):\n",
        "    return x + y\n",
        "def subtract(x, y):\n",
        "    return x - y\n",
        "def multiply(x, y):\n",
        "    return x * y\n",
        "def divide(x, y):\n",
        "    return x / y\n",
        "\n",
        "\n",
        "print(\"Select operation.\")\n",
        "print(\"1.Add\")\n",
        "print(\"2.Subtract\")\n",
        "print(\"3.Multiply\")\n",
        "print(\"4.Divide\")\n",
        "\n",
        "while True:\n",
        "\n",
        "    choice = input(\"Enter number(1/2/3/4): \")\n",
        "    if choice in ('1', '2', '3', '4'):\n",
        "        try:\n",
        "            num1 = float(input(\"Enter first number: \"))\n",
        "            num2 = float(input(\"Enter second number: \"))\n",
        "        except ValueError:\n",
        "            print(\"Invalid input. Please enter a number.\")\n",
        "            continue\n",
        "\n",
        "        if choice == '1':\n",
        "            print(num1, \"+\", num2, \"=\", add(num1, num2))\n",
        "\n",
        "        elif choice == '2':\n",
        "            print(num1, \"-\", num2, \"=\", subtract(num1, num2))\n",
        "\n",
        "        elif choice == '3':\n",
        "            print(num1, \"*\", num2, \"=\", multiply(num1, num2))\n",
        "\n",
        "        elif choice == '4':\n",
        "            print(num1, \"/\", num2, \"=\", divide(num1, num2))\n",
        "\n",
        "        next_calculation = input(\"Let's do next calculation? (yes/no): \")\n",
        "        if next_calculation == \"no\":\n",
        "          break\n",
        "    else:\n",
        "        print(\"Invalid Input\")"
      ]
    },
    {
      "cell_type": "code",
      "execution_count": null,
      "metadata": {
        "colab": {
          "base_uri": "https://localhost:8080/"
        },
        "id": "0qzlXosNZfBo",
        "outputId": "c6f284dc-b4d3-4544-c963-2914fa9bc105"
      },
      "outputs": [
        {
          "name": "stdout",
          "output_type": "stream",
          "text": [
            "The cube root of the given number { 125 } =  4.999999999999999\n"
          ]
        }
      ],
      "source": [
        "#20. Write a program that determines the roots of a cubic equation using the Cardano formula.\n",
        "\n",
        "gvn_numb = 125\n",
        "if gvn_numb < 0:\n",
        "\n",
        "    abs_numbr = abs(gvn_numb)\n",
        "\n",
        "    rslt_cuberoott = abs_numbr**(1/3)*(-1)\n",
        "else:\n",
        "    rslt_cuberoott = gvn_numb**(1/3)\n",
        "print(\"The cube root of the given number {\", gvn_numb, \"} = \", rslt_cuberoott)"
      ]
    },
    {
      "cell_type": "code",
      "execution_count": null,
      "metadata": {
        "id": "TQDrbDnVaHS-"
      },
      "outputs": [],
      "source": [
        "#ADVANCED LEVEL"
      ]
    },
    {
      "cell_type": "code",
      "execution_count": null,
      "metadata": {
        "colab": {
          "base_uri": "https://localhost:8080/"
        },
        "id": "VSee6hH1f3xq",
        "outputId": "25bcc388-b779-4ff5-fe15-7983bfa86c0e"
      },
      "outputs": [
        {
          "name": "stdout",
          "output_type": "stream",
          "text": [
            "What's your \\ annual income?\n",
            ">>> 50000\n",
            "Total tax applicable at \\ ₹50000.0 is ₹0\n"
          ]
        }
      ],
      "source": [
        "#21. Create a program that calculates the income tax based on the user's income and tax brackets.\n",
        "\n",
        "\n",
        "def calculate(amount, percent):\n",
        "    return (amount * percent) / 100\n",
        "\n",
        "def calculate_income_tax(total_income:\n",
        "                         float) -> float:\n",
        "\n",
        "    if total_income <= 250000:\n",
        "        return 0\n",
        "    elif total_income <= 500000:\n",
        "        return calculate(total_income -\n",
        "                         250000, 5)\n",
        "    elif total_income <= 750000:\n",
        "        return calculate(total_income -\n",
        "                         500000, 10) + 12500\n",
        "    elif total_income <= 1000000:\n",
        "        return calculate(total_income -\n",
        "                         750000, 15) + 37500\n",
        "    elif total_income <= 1250000:\n",
        "        return calculate(total_income -\n",
        "                         1000000, 20) + 75000\n",
        "    elif total_income <= 1500000:\n",
        "        return calculate(total_income -\n",
        "                         1250000, 25) + 125000\n",
        "    else:\n",
        "        return calculate(total_income -\n",
        "                         1500000, 30) + 187500\n",
        "\n",
        "\n",
        "if __name__ == '__main__':\n",
        "    total_income = float(input(\"What's your \\ annual income?\\n>>> \"))\n",
        "    tax = calculate_income_tax(total_income)\n",
        "    print(f\"Total tax applicable at \\ ₹{total_income} is ₹{tax}\")"
      ]
    },
    {
      "cell_type": "code",
      "execution_count": 2,
      "metadata": {
        "colab": {
          "base_uri": "https://localhost:8080/",
          "height": 1000
        },
        "id": "hshLhuZxgHU0",
        "outputId": "c2323fc4-b3ce-42f3-e386-19dcc09e2156"
      },
      "outputs": [
        {
          "name": "stdout",
          "output_type": "stream",
          "text": [
            "Winning rules of the game ROCK PAPER SCISSORS are :\n",
            "Rock vs Paper -> Paper wins \n",
            "Rock vs Scissors -> Rock wins \n",
            "Paper vs Scissors -> Scissor wins \n",
            "\n",
            "Enter your choice \n",
            " 1 - Rock \n",
            " 2 - Paper \n",
            " 3 - Scissors \n",
            "\n",
            "Enter your choice :1\n",
            "User choice is \n",
            " Rock\n",
            "Now its Computers Turn....\n",
            "Computer choice is \n",
            " scissoR\n",
            "Rock Vs scissoR\n",
            "Rock wins =>\n",
            "<== User wins ==>\n",
            "Do you want to play again? (Y/N)\n",
            "n\n",
            "Enter your choice \n",
            " 1 - Rock \n",
            " 2 - Paper \n",
            " 3 - Scissors \n",
            "\n",
            "Enter your choice :1\n",
            "User choice is \n",
            " Rock\n",
            "Now its Computers Turn....\n",
            "Computer choice is \n",
            " papeR\n",
            "Rock Vs papeR\n",
            "paper wins =><== Computer wins ==>\n",
            "Do you want to play again? (Y/N)\n",
            "y\n",
            "Enter your choice \n",
            " 1 - Rock \n",
            " 2 - Paper \n",
            " 3 - Scissors \n",
            "\n",
            "Enter your choice :3\n",
            "User choice is \n",
            " Scissors\n",
            "Now its Computers Turn....\n",
            "Computer choice is \n",
            " rocK\n",
            "Scissors Vs rocK\n",
            "Rock wins =>\n",
            "<== Computer wins ==>\n",
            "Do you want to play again? (Y/N)\n",
            "n\n",
            "Enter your choice \n",
            " 1 - Rock \n",
            " 2 - Paper \n",
            " 3 - Scissors \n",
            "\n",
            "Enter your choice :2\n",
            "User choice is \n",
            " Paper\n",
            "Now its Computers Turn....\n",
            "Computer choice is \n",
            " rocK\n",
            "Paper Vs rocK\n",
            "paper wins =><== User wins ==>\n",
            "Do you want to play again? (Y/N)\n",
            "n\n",
            "Enter your choice \n",
            " 1 - Rock \n",
            " 2 - Paper \n",
            " 3 - Scissors \n",
            "\n",
            "Enter your choice :1\n",
            "User choice is \n",
            " Rock\n",
            "Now its Computers Turn....\n",
            "Computer choice is \n",
            " scissoR\n",
            "Rock Vs scissoR\n",
            "Rock wins =>\n",
            "<== User wins ==>\n",
            "Do you want to play again? (Y/N)\n",
            "y\n",
            "Enter your choice \n",
            " 1 - Rock \n",
            " 2 - Paper \n",
            " 3 - Scissors \n",
            "\n",
            "Enter your choice :n\n"
          ]
        },
        {
          "output_type": "error",
          "ename": "ValueError",
          "evalue": "ignored",
          "traceback": [
            "\u001b[0;31m---------------------------------------------------------------------------\u001b[0m",
            "\u001b[0;31mValueError\u001b[0m                                Traceback (most recent call last)",
            "\u001b[0;32m<ipython-input-2-cec3a9948f27>\u001b[0m in \u001b[0;36m<cell line: 10>\u001b[0;34m()\u001b[0m\n\u001b[1;32m     11\u001b[0m \u001b[0;34m\u001b[0m\u001b[0m\n\u001b[1;32m     12\u001b[0m     \u001b[0mprint\u001b[0m\u001b[0;34m(\u001b[0m\u001b[0;34m\"Enter your choice \\n 1 - Rock \\n 2 - Paper \\n 3 - Scissors \\n\"\u001b[0m\u001b[0;34m)\u001b[0m\u001b[0;34m\u001b[0m\u001b[0;34m\u001b[0m\u001b[0m\n\u001b[0;32m---> 13\u001b[0;31m     \u001b[0mchoice\u001b[0m\u001b[0;34m=\u001b[0m\u001b[0mint\u001b[0m\u001b[0;34m(\u001b[0m\u001b[0minput\u001b[0m\u001b[0;34m(\u001b[0m\u001b[0;34m\"Enter your choice :\"\u001b[0m\u001b[0;34m)\u001b[0m\u001b[0;34m)\u001b[0m\u001b[0;34m\u001b[0m\u001b[0;34m\u001b[0m\u001b[0m\n\u001b[0m\u001b[1;32m     14\u001b[0m     \u001b[0;32mwhile\u001b[0m \u001b[0mchoice\u001b[0m \u001b[0;34m>\u001b[0m \u001b[0;36m3\u001b[0m \u001b[0;32mor\u001b[0m \u001b[0mchoice\u001b[0m \u001b[0;34m<\u001b[0m\u001b[0;36m1\u001b[0m\u001b[0;34m:\u001b[0m\u001b[0;34m\u001b[0m\u001b[0;34m\u001b[0m\u001b[0m\n\u001b[1;32m     15\u001b[0m       \u001b[0mchoice\u001b[0m\u001b[0;34m=\u001b[0m\u001b[0mint\u001b[0m\u001b[0;34m(\u001b[0m\u001b[0minput\u001b[0m\u001b[0;34m(\u001b[0m\u001b[0;34m'Enter a valid choice please ☺'\u001b[0m\u001b[0;34m)\u001b[0m\u001b[0;34m)\u001b[0m\u001b[0;34m\u001b[0m\u001b[0;34m\u001b[0m\u001b[0m\n",
            "\u001b[0;31mValueError\u001b[0m: invalid literal for int() with base 10: 'n'"
          ]
        }
      ],
      "source": [
        "#22. Write a program that simulates a rock-paper-scissors game against the computer.\n",
        "\n",
        "\n",
        "import random\n",
        "print('Winning rules of the game ROCK PAPER SCISSORS are :\\n'\n",
        "      + \"Rock vs Paper -> Paper wins \\n\"\n",
        "      + \"Rock vs Scissors -> Rock wins \\n\"\n",
        "      + \"Paper vs Scissors -> Scissor wins \\n\")\n",
        "\n",
        "while True:\n",
        "\n",
        "    print(\"Enter your choice \\n 1 - Rock \\n 2 - Paper \\n 3 - Scissors \\n\")\n",
        "    choice=int(input(\"Enter your choice :\"))\n",
        "    while choice > 3 or choice <1:\n",
        "      choice=int(input('Enter a valid choice please ☺'))\n",
        "    if choice == 1:\n",
        "        choice_name= 'Rock'\n",
        "    elif choice == 2:\n",
        "        choice_name= 'Paper'\n",
        "    else:\n",
        "        choice_name= 'Scissors'\n",
        "    print('User choice is \\n',choice_name)\n",
        "    print('Now its Computers Turn....')\n",
        "    comp_choice = random.randint(1,3)\n",
        "    while comp_choice == choice:\n",
        "        comp_choice = random.randint(1,3)\n",
        "    if comp_choice == 1:\n",
        "        comp_choice_name = 'rocK'\n",
        "    elif comp_choice == 2:\n",
        "        comp_choice_name = 'papeR'\n",
        "    else:\n",
        "        comp_choice_name = 'scissoR'\n",
        "    print(\"Computer choice is \\n\", comp_choice_name)\n",
        "    print(choice_name,'Vs',comp_choice_name)\n",
        "    if choice == comp_choice:\n",
        "        print('Its a Draw',end=\"\")\n",
        "        result=\"DRAW\"\n",
        "    if (choice==1 and comp_choice==2):\n",
        "        print('paper wins =>',end=\"\")\n",
        "        result='papeR'\n",
        "    elif (choice==2 and comp_choice==1):\n",
        "        print('paper wins =>',end=\"\")\n",
        "        result='Paper'\n",
        "\n",
        "\n",
        "    if (choice==1 and comp_choice==3):\n",
        "        print('Rock wins =>\\n',end= \"\")\n",
        "        result='Rock'\n",
        "    elif (choice==3 and comp_choice==1):\n",
        "        print('Rock wins =>\\n',end= \"\")\n",
        "        result='rocK'\n",
        "\n",
        "    if (choice==2 and comp_choice==3):\n",
        "        print('Scissors wins =>',end=\"\")\n",
        "        result='scissoR'\n",
        "    elif (choice==3 and comp_choice==2):\n",
        "        print('Scissors wins =>',end=\"\")\n",
        "        result='Rock'\n",
        "    if result == 'DRAW':\n",
        "        print(\"<== Its a tie ==>\")\n",
        "    if result == choice_name:\n",
        "        print(\"<== User wins ==>\")\n",
        "    else:\n",
        "        print(\"<== Computer wins ==>\")\n",
        "    print(\"Do you want to play again? (Y/N)\")\n",
        "    ans = input().lower\n",
        "    if ans =='n':\n",
        "        break\n",
        "\n",
        "print(\"thanks for playing\")\n",
        "\n"
      ]
    },
    {
      "cell_type": "code",
      "execution_count": null,
      "metadata": {
        "colab": {
          "base_uri": "https://localhost:8080/"
        },
        "id": "7vRgER6gg3El",
        "outputId": "028e7955-dbb5-424a-c840-02947a99cb54"
      },
      "outputs": [
        {
          "name": "stdout",
          "output_type": "stream",
          "text": [
            "Enter password length: 8\n",
            "Choose character set for password from these : \n",
            "         1. Digits\n",
            "         2. Letters\n",
            "         3. Special characters\n",
            "         4. Exit\n",
            "Pick a number 8600160\n",
            "Please pick a valid option!\n",
            "Pick a number 80104800\n",
            "Please pick a valid option!\n",
            "Pick a number 1\n",
            "Pick a number 2\n",
            "Pick a number 3\n",
            "Pick a number 4\n",
            "The random password is !xGu#ssC\n"
          ]
        }
      ],
      "source": [
        "1#23. Develop a program that generates a random password based on user preferences (length, complexity).\n",
        "\n",
        "import string\n",
        "import random\n",
        "length = int(input(\"Enter password length: \"))\n",
        "\n",
        "print('''Choose character set for password from these :\n",
        "         1. Digits\n",
        "         2. Letters\n",
        "         3. Special characters\n",
        "         4. Exit''')\n",
        "\n",
        "characterList = \"\"\n",
        "while(True):\n",
        "    choice = int(input(\"Pick a number \"))\n",
        "    if(choice == 1):\n",
        "        characterList += string.ascii_letters\n",
        "    elif(choice == 2):\n",
        "        characterList += string.digits\n",
        "    elif(choice == 3):\n",
        "        characterList += string.punctuation\n",
        "    elif(choice == 4):\n",
        "        break\n",
        "    else:\n",
        "        print(\"Please pick a valid option!\")\n",
        "\n",
        "password = []\n",
        "\n",
        "for i in range(length):\n",
        "    randomchar = random.choice(characterList)\n",
        "    password.append(randomchar)\n",
        "print(\"The random password is \" + \"\".join(password))\n",
        "\n"
      ]
    },
    {
      "cell_type": "code",
      "execution_count": null,
      "metadata": {
        "colab": {
          "background_save": true,
          "base_uri": "https://localhost:8080/"
        },
        "id": "otDDOQXPiB2N",
        "outputId": "7d6c1e55-f643-4b69-b1e7-f5f65be50d78"
      },
      "outputs": [
        {
          "name": "stdout",
          "output_type": "stream",
          "text": [
            "Welcome to the Adventure Game!\n",
            "As an avid traveler, you have decided to visit the Catacombs of Paris.\n",
            "However, during your exploration, you find yourself lost.\n",
            "You can choose to walk in multiple directions to find a way out.\n",
            "Let's start with your name: \n"
          ]
        }
      ],
      "source": [
        "#24. Create a program that implements a simple text-based adventure game with branching scenarios.\n",
        "\n",
        "if __name__ == \"__main__\":\n",
        "  while True:\n",
        "    print(\"Welcome to the Adventure Game!\")\n",
        "    print(\"As an avid traveler, you have decided to visit the Catacombs of Paris.\")\n",
        "    print(\"However, during your exploration, you find yourself lost.\")\n",
        "    print(\"You can choose to walk in multiple directions to find a way out.\")\n",
        "    print(\"Let's start with your name: \")\n",
        "    name = input()\n",
        "    print(\"Good luck, \" +name+ \".\")\n",
        "    introScene()"
      ]
    },
    {
      "cell_type": "code",
      "execution_count": null,
      "metadata": {
        "id": "hdRafympiY-E"
      },
      "outputs": [],
      "source": [
        "#25. Build a program that solves a linear equation for x, considering different cases.\n",
        "\n",
        "\n",
        "from sympy import symbols, Eq, solve\n",
        "\n",
        "x, y = symbols('x,y')\n",
        "eq1 = Eq((x+y), 1)\n",
        "print(\"Equation 1:\")\n",
        "print(eq1)\n",
        "eq2 = Eq((x-y), 1)\n",
        "print(\"Equation 2\")\n",
        "print(eq2)\n",
        "\n",
        "print(\"Values of 2 unknown variable are as follows:\")\n",
        "\n",
        "print(solve((eq1, eq2), (x, y)))"
      ]
    },
    {
      "cell_type": "code",
      "execution_count": 3,
      "metadata": {
        "id": "13VOtjV4kemB"
      },
      "outputs": [],
      "source": [
        "#26. Write a program that simulates a basic quiz game with multiple-choice questions and scoring.\n",
        "\n",
        "\n",
        "\n",
        "quiz_data = [\n",
        "    {\n",
        "        \"question\": \"Which planet is known as the Red Planet?\",\n",
        "        \"options\": [\"a) Venus\", \"b) Mercury\", \"c) Earth\", \"d) Mars\"],\n",
        "        \"correct_answer\": \"d\"\n",
        "    },\n",
        "    {\n",
        "        \"question\": \"Who developed the theory of relativity?\",\n",
        "        \"options\": [\"a) Isaac Newton\", \"b) Albert Einstein\", \"c) Galileo Galilei\", \"d) Marie Curie\"],\n",
        "        \"correct_answer\": \"b\"\n",
        "    },\n",
        "    {\n",
        "        \"question\": \"What is the largest ocean on Earth?\",\n",
        "        \"options\": [\"a) Pacific Ocean\", \"b) Indian Ocean\", \"c) Southern Ocean\", \"d) Atlantic Ocean\"],\n",
        "        \"correct_answer\": \"a\"\n",
        "    },\n",
        "    {\n",
        "        \"question\": \"What is the fastest land animal on Earth?\",\n",
        "        \"options\": [\"a) Cheetah\", \"b) Lion\", \"c) Elephant\", \"d) Giraffe\"],\n",
        "        \"correct_answer\": \"a\"\n",
        "    },\n",
        "    {\n",
        "        \"question\": \"Who is the author of the Harry Potter book series?\",\n",
        "        \"options\": [\"a) J.R.R. Tolkien\", \"b) C.S. Lewis\", \"c) J.K. Rowling\", \"d) George R.R. Martin\"],\n",
        "        \"correct_answer\": \"c\"\n",
        "    }\n",
        "]"
      ]
    },
    {
      "cell_type": "code",
      "source": [
        "#27. Develop a program that determines whether a given year is a prime number or not.\n",
        "\n",
        "\n",
        "num =2002\n",
        "if num > 1:\n",
        "    for i in range(2, int(num/2)+1):\n",
        "        if (num % i) == 0:\n",
        "            print(num, \"is not a prime number\")\n",
        "            break\n",
        "    else:\n",
        "        print(num, \"is a prime number\")\n",
        "else:\n",
        "    print(num, \"is not a prime number\")\n"
      ],
      "metadata": {
        "colab": {
          "base_uri": "https://localhost:8080/"
        },
        "id": "5LfjYxmAPexI",
        "outputId": "25eaa1f6-44f0-4d50-86c3-c721ef44fd5e"
      },
      "execution_count": 5,
      "outputs": [
        {
          "output_type": "stream",
          "name": "stdout",
          "text": [
            "2002 is not a prime number\n"
          ]
        }
      ]
    },
    {
      "cell_type": "code",
      "source": [
        "#28. Create a program that sorts three numbers in ascending order using conditional statements.\n",
        "\n",
        "\n",
        "num1 = int(input(\"Enter the first number: \"))\n",
        "num2 = int(input(\"Enter the second number: \"))\n",
        "num3 = int(input(\"Enter the third number: \"))\n",
        "\n",
        "if num1 <= num2 and num1 <= num3:\n",
        "    smallest = num1\n",
        "    if num2 <= num3:\n",
        "        middle = num2\n",
        "        largest = num3\n",
        "    else:\n",
        "        middle = num3\n",
        "        largest = num2\n",
        "elif num2 <= num1 and num2 <= num3:\n",
        "    smallest = num2\n",
        "    if num1 <= num3:\n",
        "        middle = num1\n",
        "        largest = num3\n",
        "    else:\n",
        "        middle = num3\n",
        "        largest = num1\n",
        "else:\n",
        "    smallest = num3\n",
        "    if num1 <= num2:\n",
        "        middle = num1\n",
        "        largest = num2\n",
        "    else:\n",
        "        middle = num2\n",
        "        largest = num1\n",
        "print(\"Sorted numbers in ascending order:\", smallest, middle, largest)"
      ],
      "metadata": {
        "colab": {
          "base_uri": "https://localhost:8080/"
        },
        "id": "Nx4Oux8MSUhA",
        "outputId": "f1c9e7de-8cd2-4c34-9cb8-95ba2eead16a"
      },
      "execution_count": 6,
      "outputs": [
        {
          "output_type": "stream",
          "name": "stdout",
          "text": [
            "Enter the first number: 56\n",
            "Enter the second number: 78\n",
            "Enter the third number: 12\n",
            "Sorted numbers in ascending order: 12 56 78\n"
          ]
        }
      ]
    },
    {
      "cell_type": "code",
      "source": [
        "#29. Build a program that determines the roots of a quartic equation using numerical methods.\n",
        "\n",
        "\n",
        "import math\n",
        "\n",
        "a = float(input(\"Insert coefficient a: \"))\n",
        "b = float(input(\"Insert coefficient b: \"))\n",
        "c = float(input(\"Insert coefficient c: \"))\n",
        "\n",
        "discriminant = b**2 - 4 * a * c\n",
        "\n",
        "if discriminant >= 0:\n",
        "    x_1=(-b+math.sqrt(discriminant))/2*a\n",
        "    x_2=(-b-math.sqrt(discriminant))/2*a\n",
        "else:\n",
        "    x_1= complex((-b/(2*a)),math.sqrt(-discriminant)/(2*a))\n",
        "    x_2= complex((-b/(2*a)),-math.sqrt(-discriminant)/(2*a))\n",
        "\n",
        "if discriminant > 0:\n",
        "    print(\"The function has two distinct real roots: {} and {}\".format(x_1,x_2))\n",
        "elif discriminant == 0:\n",
        "    print(\"The function has one double root: \", x_1)\n",
        "else:\n",
        "    print(\"The function has two complex (conjugate) roots: {}  and {}\".format(x_1,x_2))"
      ],
      "metadata": {
        "colab": {
          "base_uri": "https://localhost:8080/"
        },
        "id": "PjApexypSlxk",
        "outputId": "087236f6-4721-4cea-8447-521f44c1015a"
      },
      "execution_count": 8,
      "outputs": [
        {
          "output_type": "stream",
          "name": "stdout",
          "text": [
            "Insert coefficient a: 1\n",
            "Insert coefficient b: 5\n",
            "Insert coefficient c: 6\n",
            "The function has two distinct real roots: -2.0 and -3.0\n"
          ]
        }
      ]
    },
    {
      "cell_type": "code",
      "source": [
        "#30. Write a program that calculates the BMI (Body Mass Index) and provides health recommendations based on the user's input.\n",
        "\n",
        "\n",
        "while True:\n",
        "    try:\n",
        "        Height = float(input(\"Please enter your height in inches: \"))\n",
        "        Weight = float(input(\"Please enter your weight in pound: \"))\n",
        "    except ValueError:\n",
        "        print(\"Please provide valid input.\")\n",
        "        continue\n",
        "    else:\n",
        "        if Height <= 0 or Weight <= 0:\n",
        "            print(\"Your input must not be zero or less.\")\n",
        "            continue\n",
        "        else:\n",
        "            BMIIndex = round(Weight / (Height * Height) * 703, 2)\n",
        "            print(\"Your Body Mass Index is: \", BMIIndex)\n",
        "\n",
        "            if BMIIndex < 18.5:\n",
        "                print(\"Underweight.\")\n",
        "            elif BMIIndex <= 24.9:\n",
        "                print(\"Normal.\")\n",
        "            elif BMIIndex <= 29.9:\n",
        "                print(\"Overweight.\")\n",
        "            else:\n",
        "                print(\"Obese.\")\n",
        "        break"
      ],
      "metadata": {
        "colab": {
          "base_uri": "https://localhost:8080/"
        },
        "id": "tOXm7pOFS_vq",
        "outputId": "66924ce8-a8fe-4ee3-d2e5-7341f719be71"
      },
      "execution_count": 12,
      "outputs": [
        {
          "output_type": "stream",
          "name": "stdout",
          "text": [
            "Please enter your height in inches: 70.86\n",
            "Please enter your weight in pound: 198.41\n",
            "Your Body Mass Index is:  27.78\n",
            "Overweight.\n"
          ]
        }
      ]
    },
    {
      "cell_type": "code",
      "source": [
        "#CHALLENGE LEVEL"
      ],
      "metadata": {
        "id": "VM0B1wqRTqRQ"
      },
      "execution_count": 11,
      "outputs": []
    },
    {
      "cell_type": "code",
      "source": [
        "#31. Create a program that validates a password based on complexity rules (length, characters, etc.).\n",
        "\n",
        "\n",
        "def password_check(passwd):\n",
        "\n",
        "    SpecialSym =['$', '@', '#', '%']\n",
        "    val = True\n",
        "\n",
        "    if len(passwd) < 6:\n",
        "        print('length should be at least 6')\n",
        "        val = False\n",
        "\n",
        "    if len(passwd) > 20:\n",
        "        print('length should be not be greater than 8')\n",
        "        val = False\n",
        "\n",
        "    if not any(char.isdigit() for char in passwd):\n",
        "        print('Password should have at least one numeral')\n",
        "        val = False\n",
        "\n",
        "    if not any(char.isupper() for char in passwd):\n",
        "        print('Password should have at least one uppercase letter')\n",
        "        val = False\n",
        "\n",
        "    if not any(char.islower() for char in passwd):\n",
        "        print('Password should have at least one lowercase letter')\n",
        "        val = False\n",
        "\n",
        "    if not any(char in SpecialSym for char in passwd):\n",
        "        print('Password should have at least one of the symbols $@#')\n",
        "        val = False\n",
        "    if val:\n",
        "        return val\n",
        "def main():\n",
        "    passwd = 'Praj@20'\n",
        "\n",
        "    if (password_check(passwd)):\n",
        "        print(\"Password is valid\")\n",
        "    else:\n",
        "        print(\"Invalid Password !!\")\n",
        "\n",
        "if __name__ == '__main__':\n",
        "    main()\n"
      ],
      "metadata": {
        "colab": {
          "base_uri": "https://localhost:8080/"
        },
        "id": "4k_KhrRrUWFE",
        "outputId": "f74a1172-2903-4092-bf5f-470975e7db41"
      },
      "execution_count": 15,
      "outputs": [
        {
          "output_type": "stream",
          "name": "stdout",
          "text": [
            "Password is valid\n"
          ]
        }
      ]
    },
    {
      "cell_type": "code",
      "source": [
        "#32. Develop a program that performs matrix addition and subtraction based on user input.\n",
        "\n",
        "m1 = [list(map(int, input(\"Enter row: \").split(\" \")))\n",
        "      for i in range(int(input(\"Enter Number of rows: \")))]\n",
        "\n",
        "m2 = [list(map(int, input(\"Enter row: \").split(\" \")))\n",
        "      for i in range(int(input(\"Enter Number of rows :\")))]\n",
        "\n",
        "print(\"Add Matrix:\")\n",
        "r = [[m1[i][j] + m2[i][j]\n",
        "      for j in range(len(m1[0]))] for i in range(len(m1))]\n",
        "print(r)\n"
      ],
      "metadata": {
        "colab": {
          "base_uri": "https://localhost:8080/"
        },
        "id": "FF6oE0QSVq6v",
        "outputId": "6ef8e4bc-45e6-43fb-930e-dbd2e710a9a8"
      },
      "execution_count": 22,
      "outputs": [
        {
          "output_type": "stream",
          "name": "stdout",
          "text": [
            "Enter Number of rows: 2\n",
            "Enter row: 1 4\n",
            "Enter row: 5 6\n",
            "Enter Number of rows :2\n",
            "Enter row: 7 9\n",
            "Enter row: 4 5\n",
            "Add Matrix:\n",
            "[[8, 13], [9, 11]]\n"
          ]
        }
      ]
    },
    {
      "cell_type": "code",
      "source": [
        "#33. Write a program that calculates the greatest common divisor (GCD) of two numbers using the Euclidean algorithm.\n",
        "\n",
        "import math\n",
        "print(\"The gcd of 38 and 48 is : \", end=\"\")\n",
        "print(math.gcd(38, 48))"
      ],
      "metadata": {
        "colab": {
          "base_uri": "https://localhost:8080/"
        },
        "id": "r6pk3CoTWZv9",
        "outputId": "ca6232a0-d4ab-4231-e547-2187bc010981"
      },
      "execution_count": 26,
      "outputs": [
        {
          "output_type": "stream",
          "name": "stdout",
          "text": [
            "The gcd of 38 and 48 is : 2\n"
          ]
        }
      ]
    },
    {
      "cell_type": "code",
      "source": [
        "#34. Build a program that performs matrix multiplication using nested loops and conditional statements.\n",
        "\n",
        "X = [[12,7,3],\n",
        "    [4 ,5,6],\n",
        "    [7 ,8,9]]\n",
        "Y = [[5,8,1,2],\n",
        "    [6,7,3,0],\n",
        "    [4,5,9,1]]\n",
        "result = [[0,0,0,0],\n",
        "         [0,0,0,0],\n",
        "         [0,0,0,0]]\n",
        "\n",
        "for i in range(len(X)):\n",
        "   for j in range(len(Y[0])):\n",
        "       for k in range(len(Y)):\n",
        "           result[i][j] += X[i][k] * Y[k][j]\n",
        "\n",
        "for r in result:\n",
        "   print(r)\n",
        "\n"
      ],
      "metadata": {
        "colab": {
          "base_uri": "https://localhost:8080/"
        },
        "id": "-qwMzJrlXIlr",
        "outputId": "1c681756-5ac4-4e1b-cb03-091565d1d450"
      },
      "execution_count": 27,
      "outputs": [
        {
          "output_type": "stream",
          "name": "stdout",
          "text": [
            "[114, 160, 60, 27]\n",
            "[74, 97, 73, 14]\n",
            "[119, 157, 112, 23]\n"
          ]
        }
      ]
    },
    {
      "cell_type": "code",
      "source": [
        "#35. Create a program that simulates a basic text-based tic-tac-toe game against the computer.\n",
        "\n",
        "\n",
        "def SetLayout(id,player_symbol):\n",
        "    if id==1:\n",
        "        b1.config(text= player_symbol)\n",
        "        b1.state(['disabled'])\n",
        "    elif id==2:\n",
        "        b2.config(text= player_symbol)\n",
        "        b2.state(['disabled'])\n",
        "    elif id==3:\n",
        "        b3.config(text= player_symbol)\n",
        "        b3.state(['disabled'])\n",
        "    elif id==4:\n",
        "        b4.config(text= player_symbol)\n",
        "        b4.state(['disabled'])\n",
        "    elif id==5:\n",
        "        b5.config(text= player_symbol)\n",
        "        b5.state(['disabled'])\n",
        "    elif id==6:\n",
        "        b6.config(text= player_symbol)\n",
        "        b6.state(['disabled'])\n",
        "    elif id==7:\n",
        "        b7.config(text= player_symbol)\n",
        "        b7.state(['disabled'])\n",
        "    elif id==8:\n",
        "        b8.config(text= player_symbol)\n",
        "        b8.state(['disabled'])\n",
        "    elif id==9:\n",
        "        b9.config(text= player_symbol)\n",
        "        b9.state(['disabled'])\n"
      ],
      "metadata": {
        "id": "bJMnetkOaOan"
      },
      "execution_count": 30,
      "outputs": []
    },
    {
      "cell_type": "code",
      "source": [
        "#36. Write a program that generates Fibonacci numbers up to a specified term using iterative methods.\n",
        "\n",
        "\n",
        "n = 20\n",
        "num1 = 0\n",
        "num2 = 1\n",
        "next_number = num2\n",
        "count = 1\n",
        "\n",
        "while count <= n:\n",
        "    print(next_number, end=\" \")\n",
        "    count += 1\n",
        "    num1, num2 = num2, next_number\n",
        "    next_number = num1 + num2\n",
        "print()"
      ],
      "metadata": {
        "colab": {
          "base_uri": "https://localhost:8080/"
        },
        "id": "1rzN7UbtarNq",
        "outputId": "b9e1b780-ea50-493a-89fc-196807e44a6e"
      },
      "execution_count": 32,
      "outputs": [
        {
          "output_type": "stream",
          "name": "stdout",
          "text": [
            "1 2 3 5 8 13 21 34 55 89 144 233 377 610 987 1597 2584 4181 6765 10946 \n"
          ]
        }
      ]
    },
    {
      "cell_type": "code",
      "source": [
        "#37. Develop a program that calculates the nth term of the Fibonacci sequence using memoization.\n",
        "\n",
        "\n",
        "\n",
        "nterms = int(input(\"How many terms? \"))\n",
        "\n",
        "n1, n2 = 0, 1\n",
        "count = 0\n",
        "\n",
        "if nterms <= 0:\n",
        "   print(\"Please enter a positive integer\")\n",
        "elif nterms == 1:\n",
        "   print(\"Fibonacci sequence upto\",nterms,\":\")\n",
        "   print(n1)\n",
        "else:\n",
        "   print(\"Fibonacci sequence:\")\n",
        "   while count < nterms:\n",
        "       print(n1)\n",
        "       nth = n1 + n2\n",
        "       n1 = n2\n",
        "       n2 = nth\n",
        "       count += 1"
      ],
      "metadata": {
        "colab": {
          "base_uri": "https://localhost:8080/"
        },
        "id": "I9bzKkpQb0wx",
        "outputId": "1217f550-9aaf-4c38-cd9d-4f064547c863"
      },
      "execution_count": 33,
      "outputs": [
        {
          "output_type": "stream",
          "name": "stdout",
          "text": [
            "How many terms? 2\n",
            "Fibonacci sequence:\n",
            "0\n",
            "1\n"
          ]
        }
      ]
    },
    {
      "cell_type": "code",
      "source": [
        "#38. Create a program that generates a calendar for a given month and year using conditional statements.\n",
        "\n",
        "import calendar\n",
        "\n",
        "year = int(input(\"Enter the year: \"))\n",
        "\n",
        "print(calendar.calendar(year))"
      ],
      "metadata": {
        "colab": {
          "base_uri": "https://localhost:8080/"
        },
        "id": "XhWXuxZZfwP2",
        "outputId": "980b3648-5ecd-44bc-a6d0-acc4c734b2b5"
      },
      "execution_count": 34,
      "outputs": [
        {
          "output_type": "stream",
          "name": "stdout",
          "text": [
            "Enter the year: 2002\n",
            "                                  2002\n",
            "\n",
            "      January                   February                   March\n",
            "Mo Tu We Th Fr Sa Su      Mo Tu We Th Fr Sa Su      Mo Tu We Th Fr Sa Su\n",
            "    1  2  3  4  5  6                   1  2  3                   1  2  3\n",
            " 7  8  9 10 11 12 13       4  5  6  7  8  9 10       4  5  6  7  8  9 10\n",
            "14 15 16 17 18 19 20      11 12 13 14 15 16 17      11 12 13 14 15 16 17\n",
            "21 22 23 24 25 26 27      18 19 20 21 22 23 24      18 19 20 21 22 23 24\n",
            "28 29 30 31               25 26 27 28               25 26 27 28 29 30 31\n",
            "\n",
            "       April                      May                       June\n",
            "Mo Tu We Th Fr Sa Su      Mo Tu We Th Fr Sa Su      Mo Tu We Th Fr Sa Su\n",
            " 1  2  3  4  5  6  7             1  2  3  4  5                      1  2\n",
            " 8  9 10 11 12 13 14       6  7  8  9 10 11 12       3  4  5  6  7  8  9\n",
            "15 16 17 18 19 20 21      13 14 15 16 17 18 19      10 11 12 13 14 15 16\n",
            "22 23 24 25 26 27 28      20 21 22 23 24 25 26      17 18 19 20 21 22 23\n",
            "29 30                     27 28 29 30 31            24 25 26 27 28 29 30\n",
            "\n",
            "        July                     August                  September\n",
            "Mo Tu We Th Fr Sa Su      Mo Tu We Th Fr Sa Su      Mo Tu We Th Fr Sa Su\n",
            " 1  2  3  4  5  6  7                1  2  3  4                         1\n",
            " 8  9 10 11 12 13 14       5  6  7  8  9 10 11       2  3  4  5  6  7  8\n",
            "15 16 17 18 19 20 21      12 13 14 15 16 17 18       9 10 11 12 13 14 15\n",
            "22 23 24 25 26 27 28      19 20 21 22 23 24 25      16 17 18 19 20 21 22\n",
            "29 30 31                  26 27 28 29 30 31         23 24 25 26 27 28 29\n",
            "                                                    30\n",
            "\n",
            "      October                   November                  December\n",
            "Mo Tu We Th Fr Sa Su      Mo Tu We Th Fr Sa Su      Mo Tu We Th Fr Sa Su\n",
            "    1  2  3  4  5  6                   1  2  3                         1\n",
            " 7  8  9 10 11 12 13       4  5  6  7  8  9 10       2  3  4  5  6  7  8\n",
            "14 15 16 17 18 19 20      11 12 13 14 15 16 17       9 10 11 12 13 14 15\n",
            "21 22 23 24 25 26 27      18 19 20 21 22 23 24      16 17 18 19 20 21 22\n",
            "28 29 30 31               25 26 27 28 29 30         23 24 25 26 27 28 29\n",
            "                                                    30 31\n",
            "\n"
          ]
        }
      ]
    },
    {
      "cell_type": "code",
      "source": [
        "#39. Build a program that simulates a basic text-based blackjack game against the computer.\n",
        "\n",
        "\n",
        "from random import randint\n",
        "\n",
        "class Card:\n",
        "    def __init__(self):\n",
        "        pass\n",
        "\n",
        "    def card_value(self):\n",
        "        pass\n",
        "\n",
        "    card_face = ['Ace','2','3','4','5','6','7','8','9','10','J','Q','K']\n",
        "    card_suit = ['Hearts','Spades','Clubs','Diamonds']\n",
        "\n",
        "\n",
        "\n",
        "class Deck(Card):\n",
        "    new_deck = []\n",
        "    length = len(new_deck)\n",
        "\n",
        "    for i in Card.card_suit:\n",
        "        for j in Card.card_face:\n",
        "            new_deck.append(j + ' of ' + i)\n",
        "\n",
        "    def new_card(self):\n",
        "        return (self.new_deck[randint(0,len(self.new_deck)-1)])\n",
        "    def remove_card(self,card):\n",
        "        self.new_deck.remove(card)\n",
        "\n",
        "\n",
        "\n",
        "deck1 = Deck()\n",
        "card1 = deck1.new_card()\n",
        "deck1.remove_card(card1)\n",
        "card2 = deck1.new_card()\n",
        "deck1.remove_card(card2)\n",
        "print(str(card1) + \" and \" + str(card2))\n",
        "print(len(deck1.new_deck))\n"
      ],
      "metadata": {
        "colab": {
          "base_uri": "https://localhost:8080/"
        },
        "id": "rsxOPB-Qgt7B",
        "outputId": "692a51b7-1229-4584-9d95-ba959f144584"
      },
      "execution_count": 35,
      "outputs": [
        {
          "output_type": "stream",
          "name": "stdout",
          "text": [
            "2 of Spades and 4 of Diamonds\n",
            "50\n"
          ]
        }
      ]
    },
    {
      "cell_type": "code",
      "source": [
        "#40. Write a program that generates the prime factors of a given number using trial division.\n",
        "\n",
        "def calculate_prime_factors(N):\n",
        "    prime_factors = set()\n",
        "    if N % 2 == 0:\n",
        "        prime_factors.add(2)\n",
        "    while N % 2 == 0:\n",
        "        N = N // 2\n",
        "        if N == 1:\n",
        "            return prime_factors\n",
        "    for factor in range(3, N + 1, 2):\n",
        "        if N % factor == 0:\n",
        "            prime_factors.add(factor)\n",
        "            while N % factor == 0:\n",
        "                N = N // factor\n",
        "                if N == 1:\n",
        "                    return prime_factors\n",
        "\n",
        "\n",
        "input_number = 50\n",
        "output = calculate_prime_factors(input_number)\n",
        "print(\"Prime factors of {} are {}\".format(input_number, output))\n",
        "input_number = 6250\n",
        "output = calculate_prime_factors(input_number)\n",
        "print(\"Prime factors of {} are {}\".format(input_number, output))\n"
      ],
      "metadata": {
        "colab": {
          "base_uri": "https://localhost:8080/"
        },
        "id": "xjBW2st-hP8h",
        "outputId": "78dbe3e6-9111-4ce4-ffe8-fb1b91f32244"
      },
      "execution_count": 37,
      "outputs": [
        {
          "output_type": "stream",
          "name": "stdout",
          "text": [
            "Prime factors of 50 are {2, 5}\n",
            "Prime factors of 6250 are {2, 5}\n"
          ]
        }
      ]
    },
    {
      "cell_type": "code",
      "source": [],
      "metadata": {
        "id": "0liCQ9g3iUDV"
      },
      "execution_count": 36,
      "outputs": []
    }
  ],
  "metadata": {
    "colab": {
      "provenance": []
    },
    "kernelspec": {
      "display_name": "Python 3",
      "name": "python3"
    },
    "language_info": {
      "name": "python"
    }
  },
  "nbformat": 4,
  "nbformat_minor": 0
}